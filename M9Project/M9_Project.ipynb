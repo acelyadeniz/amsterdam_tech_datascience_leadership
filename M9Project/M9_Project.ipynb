{
  "nbformat": 4,
  "nbformat_minor": 0,
  "metadata": {
    "colab": {
      "provenance": [],
      "machine_shape": "hm",
      "gpuType": "V28"
    },
    "kernelspec": {
      "name": "python3",
      "display_name": "Python 3"
    },
    "language_info": {
      "name": "python"
    },
    "accelerator": "TPU"
  },
  "cells": [
    {
      "cell_type": "markdown",
      "source": [
        "Introduction\n",
        "\n",
        "Twitter has become a valuable source of real-time information during emergencies and disasters. However, not all tweets that mention disaster-related keywords are actually about real disasters. Some may use such terms metaphorically or in a non-disaster context. The goal of this project is to build a machine learning model that can distinguish between tweets about real disasters and those that are not.\n",
        "\n",
        "Objective\n",
        "\n",
        "Develop a predictive model that can identify which tweets are about real disasters and which ones are not, using natural language processing (NLP) techniques.\n",
        "\n",
        "Evaluation Metric\n",
        "\n",
        "Submissions are evaluated using the F1 Score, which considers both precision and recall of the classification model.\n",
        "\n",
        "Submission Format\n",
        "\n",
        "For each tweet in the test set, we need to predict a target value:\n",
        "\n",
        "1 if the tweet is about a real disaster.\n",
        "0 if the tweet is not about a real disaster."
      ],
      "metadata": {
        "id": "9iEcryIJTBJR"
      }
    },
    {
      "cell_type": "markdown",
      "source": [
        "Açelya Deniz Güngördü"
      ],
      "metadata": {
        "id": "XBcK1dU5_jt0"
      }
    },
    {
      "cell_type": "code",
      "source": [
        "!pip install xgboost"
      ],
      "metadata": {
        "colab": {
          "base_uri": "https://localhost:8080/"
        },
        "id": "EQ1SjuaVTQBN",
        "outputId": "2e592a95-4e00-4432-917e-bc408f3b5cda"
      },
      "execution_count": 70,
      "outputs": [
        {
          "output_type": "stream",
          "name": "stdout",
          "text": [
            "Collecting xgboost\n",
            "  Downloading xgboost-2.1.3-py3-none-manylinux_2_28_x86_64.whl.metadata (2.1 kB)\n",
            "Requirement already satisfied: numpy in /usr/local/lib/python3.10/dist-packages (from xgboost) (1.26.4)\n",
            "Collecting nvidia-nccl-cu12 (from xgboost)\n",
            "  Downloading nvidia_nccl_cu12-2.23.4-py3-none-manylinux2014_x86_64.whl.metadata (1.8 kB)\n",
            "Requirement already satisfied: scipy in /usr/local/lib/python3.10/dist-packages (from xgboost) (1.13.1)\n",
            "Downloading xgboost-2.1.3-py3-none-manylinux_2_28_x86_64.whl (153.9 MB)\n",
            "\u001b[2K   \u001b[90m━━━━━━━━━━━━━━━━━━━━━━━━━━━━━━━━━━━━━━━━\u001b[0m \u001b[32m153.9/153.9 MB\u001b[0m \u001b[31m7.1 MB/s\u001b[0m eta \u001b[36m0:00:00\u001b[0m\n",
            "\u001b[?25hDownloading nvidia_nccl_cu12-2.23.4-py3-none-manylinux2014_x86_64.whl (199.0 MB)\n",
            "\u001b[2K   \u001b[90m━━━━━━━━━━━━━━━━━━━━━━━━━━━━━━━━━━━━━━━━\u001b[0m \u001b[32m199.0/199.0 MB\u001b[0m \u001b[31m5.3 MB/s\u001b[0m eta \u001b[36m0:00:00\u001b[0m\n",
            "\u001b[?25hInstalling collected packages: nvidia-nccl-cu12, xgboost\n",
            "Successfully installed nvidia-nccl-cu12-2.23.4 xgboost-2.1.3\n"
          ]
        }
      ]
    },
    {
      "cell_type": "markdown",
      "source": [
        "# Preprocessing"
      ],
      "metadata": {
        "id": "WIwiXlR19W1n"
      }
    },
    {
      "cell_type": "code",
      "source": [
        "import pandas as pd\n",
        "import numpy as np\n",
        "import re\n",
        "import string\n",
        "import nltk\n",
        "from nltk.corpus import stopwords\n",
        "from nltk.stem import WordNetLemmatizer\n",
        "nltk.download('stopwords')\n",
        "nltk.download('punkt')\n",
        "nltk.download('wordnet')\n",
        "nltk.download('punkt_tab')\n",
        "from sklearn.linear_model import LogisticRegression\n",
        "from sklearn.naive_bayes import MultinomialNB\n",
        "from sklearn.svm import LinearSVC\n",
        "from sklearn.ensemble import RandomForestClassifier, GradientBoostingClassifier\n",
        "from xgboost import XGBClassifier\n",
        "from sklearn.metrics import f1_score, classification_report\n",
        "from sklearn.feature_extraction.text import TfidfVectorizer\n",
        "from sklearn.model_selection import train_test_split\n",
        "import numpy as np\n",
        "import time\n",
        "import pandas as pd\n",
        "import matplotlib.pyplot as plt"
      ],
      "metadata": {
        "colab": {
          "base_uri": "https://localhost:8080/"
        },
        "id": "0yLvrRBlX3jm",
        "outputId": "18e8416a-e9d1-46eb-cef4-1c99d656da91"
      },
      "execution_count": 58,
      "outputs": [
        {
          "output_type": "stream",
          "name": "stderr",
          "text": [
            "[nltk_data] Downloading package stopwords to /root/nltk_data...\n",
            "[nltk_data]   Package stopwords is already up-to-date!\n",
            "[nltk_data] Downloading package punkt to /root/nltk_data...\n",
            "[nltk_data]   Package punkt is already up-to-date!\n",
            "[nltk_data] Downloading package wordnet to /root/nltk_data...\n",
            "[nltk_data]   Package wordnet is already up-to-date!\n",
            "[nltk_data] Downloading package punkt_tab to /root/nltk_data...\n",
            "[nltk_data]   Unzipping tokenizers/punkt_tab.zip.\n"
          ]
        },
        {
          "output_type": "execute_result",
          "data": {
            "text/plain": [
              "True"
            ]
          },
          "metadata": {},
          "execution_count": 58
        }
      ]
    },
    {
      "cell_type": "code",
      "source": [
        "def clean_text(text):\n",
        "    text = text.lower()\n",
        "    text = re.sub(r'http\\S+|www.\\S+', '', text)\n",
        "    text = re.sub(r'<.*?>', '', text)\n",
        "    text = re.sub(r'@\\w+', '', text)\n",
        "    text = re.sub(r'#', '', text)\n",
        "    text = re.sub(r'\\d+', '', text)\n",
        "    text = text.translate(str.maketrans('', '', string.punctuation))\n",
        "    text = re.sub(r'\\s+', ' ', text).strip()\n",
        "    return text"
      ],
      "metadata": {
        "id": "4DKnHWh6YNsV"
      },
      "execution_count": 59,
      "outputs": []
    },
    {
      "cell_type": "markdown",
      "source": [
        "The purpose of the clean_text function is to prepare raw text data for further analysis or modeling by removing noise and standardizing the text. This is a common step in natural language processing (NLP) tasks.\n",
        "\n",
        "By applying these transformations, the clean_text function prepares the text data for further processing, such as tokenization, vectorization, or input into machine learning models. This cleaning step is crucial to ensure that the text data is in a consistent and noise-free format, which can improve the performance of NLP models."
      ],
      "metadata": {
        "id": "74IJmcO79pYy"
      }
    },
    {
      "cell_type": "code",
      "source": [
        "train_df['clean_text'] = train_df['text'].apply(clean_text)\n",
        "test_df['clean_text'] = test_df['text'].apply(clean_text)"
      ],
      "metadata": {
        "id": "TxYNYNhzYPWl"
      },
      "execution_count": null,
      "outputs": []
    },
    {
      "cell_type": "code",
      "source": [
        "lemmatizer = WordNetLemmatizer()\n",
        "stop_words = set(stopwords.words('english'))\n",
        "\n",
        "def preprocess_text(text):\n",
        "    words = nltk.word_tokenize(text)\n",
        "    words = [lemmatizer.lemmatize(word) for word in words if word not in stop_words]\n",
        "    text = ' '.join(words)\n",
        "    return text"
      ],
      "metadata": {
        "id": "srIHSPDJYRV0"
      },
      "execution_count": 61,
      "outputs": []
    },
    {
      "cell_type": "markdown",
      "source": [
        "The preprocess_text function is designed to further process text data by tokenizing it, removing stopwords, and lemmatizing the words. This is a common step in natural language processing (NLP) to prepare text for analysis or modeling. The preprocess_text function plays a crucial role in preparing textual data for analysis:\n",
        "\n",
        "Enhances Model Performance: By standardizing and cleaning the text, models can learn from relevant patterns without noise.\n",
        "Reduces Dimensionality: Removing stopwords and normalizing words reduces the feature space, making models more efficient.\n",
        "Improves Generalization: Helps models generalize better to unseen data by focusing on essential words.\n",
        "Understanding each step in the preprocessing pipeline allows you to make informed decisions about what techniques to apply based on your specific NLP task."
      ],
      "metadata": {
        "id": "UTY66qVK-Tr6"
      }
    },
    {
      "cell_type": "code",
      "source": [
        "train_df['processed_text'] = train_df['clean_text'].apply(preprocess_text)\n",
        "test_df['processed_text'] = test_df['clean_text'].apply(preprocess_text)"
      ],
      "metadata": {
        "id": "sSOGHj0eYTMU"
      },
      "execution_count": 62,
      "outputs": []
    },
    {
      "cell_type": "code",
      "source": [
        "train_df['keyword'].fillna('no_keyword', inplace=True)\n",
        "test_df['keyword'].fillna('no_keyword', inplace=True)"
      ],
      "metadata": {
        "id": "m5bysE00YUxc"
      },
      "execution_count": 63,
      "outputs": []
    },
    {
      "cell_type": "code",
      "source": [
        "train_df['combined_text'] = train_df['keyword'] + ' ' + train_df['processed_text']\n",
        "test_df['combined_text'] = test_df['keyword'] + ' ' + test_df['processed_text']"
      ],
      "metadata": {
        "id": "5i8MzeeRYf0M"
      },
      "execution_count": 64,
      "outputs": []
    },
    {
      "cell_type": "code",
      "source": [
        "X = train_df['processed_text']\n",
        "y = train_df['target']\n",
        "\n",
        "X_train, X_val, y_train, y_val = train_test_split(\n",
        "    X, y, test_size=0.2, random_state=42, stratify=y\n",
        ")\n",
        "\n",
        "tfidf = TfidfVectorizer(max_features=5000, ngram_range=(1, 2))\n",
        "X_train_tfidf = tfidf.fit_transform(X_train)\n",
        "X_val_tfidf = tfidf.transform(X_val)\n",
        "\n",
        "model_performances = {}\n",
        "\n",
        "def train_evaluate_model(model, X_train, X_val, y_train, y_val, model_name):\n",
        "    \"\"\"\n",
        "    Train and evaluate a model, storing its performance metrics\n",
        "    \"\"\"\n",
        "    start_time = time.time()\n",
        "\n",
        "    model.fit(X_train, y_train)\n",
        "\n",
        "    y_pred = model.predict(X_val)\n",
        "\n",
        "    f1 = f1_score(y_val, y_pred)\n",
        "\n",
        "    training_time = time.time() - start_time\n",
        "\n",
        "    model_performances[model_name] = {\n",
        "        'f1_score': f1,\n",
        "        'training_time': training_time,\n",
        "        'model': model\n",
        "    }\n",
        "\n",
        "    print(f\"\\n{model_name} Results:\")\n",
        "    print(f\"F1 Score: {f1:.4f}\")\n",
        "    print(f\"Training Time: {training_time:.2f} seconds\")\n",
        "    print(\"\\nClassification Report:\")\n",
        "    print(classification_report(y_val, y_pred))\n",
        "\n",
        "    return model\n",
        "\n"
      ],
      "metadata": {
        "id": "SiLzTqmYaCuS"
      },
      "execution_count": 81,
      "outputs": []
    },
    {
      "cell_type": "markdown",
      "source": [
        "\n",
        "X: Contains the processed text data (features)\n",
        "\n",
        "y: Contains the binary target labels (0: not disaster, 1: disaster)\n",
        "\n",
        "train_test_split:\n",
        "Splits data into training (80%) and validation (20%) sets\n",
        "random_state=42: Ensures reproducible splits\n",
        "stratify=y: Maintains the same proportion of samples for each class\n",
        "\n",
        "TfidfVectorizer:\n",
        "Converts text to numerical features using TF-IDF\n",
        "max_features=5000: Keeps only the top 5000 most frequent terms\n",
        "ngram_range=(1, 2): Creates features from:\n",
        "Single words (unigrams)\n",
        "Two-word combinations (bigrams)\n",
        "fit_transform: Learns vocabulary from training data and transforms it\n",
        "transform: Applies learned vocabulary to validation data"
      ],
      "metadata": {
        "id": "aRg8InlC_WW1"
      }
    },
    {
      "cell_type": "markdown",
      "source": [
        "# Train and evaluate different models"
      ],
      "metadata": {
        "id": "A9lmlemP-598"
      }
    },
    {
      "cell_type": "code",
      "source": [
        "\n",
        "\n",
        "print(\"Training Logistic Regression...\")\n",
        "lr_model = train_evaluate_model(\n",
        "    LogisticRegression(max_iter=1000, random_state=42),\n",
        "    X_train_tfidf, X_val_tfidf, y_train, y_val,\n",
        "    \"Logistic Regression\"\n",
        ")\n",
        "\n",
        "# 2. Multinomial Naive Bayes\n",
        "print(\"\\nTraining Naive Bayes...\")\n",
        "nb_model = train_evaluate_model(\n",
        "    MultinomialNB(),\n",
        "    X_train_tfidf, X_val_tfidf, y_train, y_val,\n",
        "    \"Naive Bayes\"\n",
        ")\n",
        "\n",
        "# 3. Linear SVM\n",
        "print(\"\\nTraining Linear SVM...\")\n",
        "svm_model = train_evaluate_model(\n",
        "    LinearSVC(random_state=42, max_iter=1000),\n",
        "    X_train_tfidf, X_val_tfidf, y_train, y_val,\n",
        "    \"Linear SVM\"\n",
        ")\n",
        "\n",
        "# 4. Random Forest\n",
        "print(\"\\nTraining Random Forest...\")\n",
        "rf_model = train_evaluate_model(\n",
        "    RandomForestClassifier(n_estimators=100, random_state=42),\n",
        "    X_train_tfidf, X_val_tfidf, y_train, y_val,\n",
        "    \"Random Forest\"\n",
        ")\n",
        "\n",
        "# 5. Gradient Boosting\n",
        "print(\"\\nTraining Gradient Boosting...\")\n",
        "gb_model = train_evaluate_model(\n",
        "    GradientBoostingClassifier(n_estimators=100, random_state=42),\n",
        "    X_train_tfidf, X_val_tfidf, y_train, y_val,\n",
        "    \"Gradient Boosting\"\n",
        ")\n",
        "\n",
        "# 6. XGBoost\n",
        "print(\"\\nTraining XGBoost...\")\n",
        "xgb_model = train_evaluate_model(\n",
        "    XGBClassifier(random_state=42, use_label_encoder=False),\n",
        "    X_train_tfidf, X_val_tfidf, y_train, y_val,\n",
        "    \"XGBoost\"\n",
        ")\n",
        "\n",
        "def plot_model_comparison():\n",
        "    \"\"\"\n",
        "    Plot model performances comparison\n",
        "    \"\"\"\n",
        "    models = list(model_performances.keys())\n",
        "    f1_scores = [model_performances[model]['f1_score'] for model in models]\n",
        "    training_times = [model_performances[model]['training_time'] for model in models]\n",
        "\n",
        "    fig, (ax1, ax2) = plt.subplots(2, 1, figsize=(12, 10))\n",
        "\n",
        "    bars1 = ax1.bar(models, f1_scores)\n",
        "    ax1.set_title('Model F1 Scores Comparison')\n",
        "    ax1.set_ylabel('F1 Score')\n",
        "    ax1.tick_params(axis='x', rotation=45)\n",
        "\n",
        "    for bar in bars1:\n",
        "        height = bar.get_height()\n",
        "        ax1.text(bar.get_x() + bar.get_width()/2., height,\n",
        "                f'{height:.4f}',\n",
        "                ha='center', va='bottom')\n",
        "\n",
        "    bars2 = ax2.bar(models, training_times)\n",
        "    ax2.set_title('Model Training Times Comparison')\n",
        "    ax2.set_ylabel('Training Time (seconds)')\n",
        "    ax2.tick_params(axis='x', rotation=45)\n",
        "\n",
        "    for bar in bars2:\n",
        "        height = bar.get_height()\n",
        "        ax2.text(bar.get_x() + bar.get_width()/2., height,\n",
        "                f'{height:.2f}s',\n",
        "                ha='center', va='bottom')\n",
        "\n",
        "    plt.tight_layout()\n",
        "    plt.show()\n",
        "\n",
        "\n",
        "plot_model_comparison()\n",
        "\n",
        "best_model_name = max(model_performances.items(),\n",
        "                     key=lambda x: x[1]['f1_score'])[0]\n",
        "best_model = model_performances[best_model_name]['model']\n",
        "best_f1 = model_performances[best_model_name]['f1_score']\n",
        "\n",
        "print(f\"\\nBest Model: {best_model_name}\")\n",
        "print(f\"Best F1 Score: {best_f1:.4f}\")\n",
        "\n"
      ],
      "metadata": {
        "colab": {
          "base_uri": "https://localhost:8080/",
          "height": 1000
        },
        "id": "jGYF7laDaHz6",
        "outputId": "2a185699-f0f0-4f6e-a4fd-ccaf3aebb65e"
      },
      "execution_count": 82,
      "outputs": [
        {
          "output_type": "stream",
          "name": "stdout",
          "text": [
            "Training Logistic Regression...\n",
            "\n",
            "Logistic Regression Results:\n",
            "F1 Score: 0.7727\n",
            "Training Time: 0.04 seconds\n",
            "\n",
            "Classification Report:\n",
            "              precision    recall  f1-score   support\n",
            "\n",
            "           0       0.81      0.90      0.85       869\n",
            "           1       0.85      0.71      0.77       654\n",
            "\n",
            "    accuracy                           0.82      1523\n",
            "   macro avg       0.83      0.81      0.81      1523\n",
            "weighted avg       0.82      0.82      0.82      1523\n",
            "\n",
            "\n",
            "Training Naive Bayes...\n",
            "\n",
            "Naive Bayes Results:\n",
            "F1 Score: 0.7539\n",
            "Training Time: 0.01 seconds\n",
            "\n",
            "Classification Report:\n",
            "              precision    recall  f1-score   support\n",
            "\n",
            "           0       0.79      0.93      0.85       869\n",
            "           1       0.87      0.67      0.75       654\n",
            "\n",
            "    accuracy                           0.81      1523\n",
            "   macro avg       0.83      0.80      0.80      1523\n",
            "weighted avg       0.82      0.81      0.81      1523\n",
            "\n",
            "\n",
            "Training Linear SVM...\n",
            "\n",
            "Linear SVM Results:\n",
            "F1 Score: 0.7595\n",
            "Training Time: 0.02 seconds\n",
            "\n",
            "Classification Report:\n",
            "              precision    recall  f1-score   support\n",
            "\n",
            "           0       0.81      0.84      0.82       869\n",
            "           1       0.77      0.75      0.76       654\n",
            "\n",
            "    accuracy                           0.80      1523\n",
            "   macro avg       0.79      0.79      0.79      1523\n",
            "weighted avg       0.80      0.80      0.80      1523\n",
            "\n",
            "\n",
            "Training Random Forest...\n",
            "\n",
            "Random Forest Results:\n",
            "F1 Score: 0.7496\n",
            "Training Time: 7.88 seconds\n",
            "\n",
            "Classification Report:\n",
            "              precision    recall  f1-score   support\n",
            "\n",
            "           0       0.80      0.84      0.82       869\n",
            "           1       0.78      0.72      0.75       654\n",
            "\n",
            "    accuracy                           0.79      1523\n",
            "   macro avg       0.79      0.78      0.79      1523\n",
            "weighted avg       0.79      0.79      0.79      1523\n",
            "\n",
            "\n",
            "Training Gradient Boosting...\n",
            "\n",
            "Gradient Boosting Results:\n",
            "F1 Score: 0.6319\n",
            "Training Time: 1.91 seconds\n",
            "\n",
            "Classification Report:\n",
            "              precision    recall  f1-score   support\n",
            "\n",
            "           0       0.71      0.94      0.81       869\n",
            "           1       0.86      0.50      0.63       654\n",
            "\n",
            "    accuracy                           0.75      1523\n",
            "   macro avg       0.79      0.72      0.72      1523\n",
            "weighted avg       0.78      0.75      0.73      1523\n",
            "\n",
            "\n",
            "Training XGBoost...\n",
            "\n",
            "XGBoost Results:\n",
            "F1 Score: 0.7237\n",
            "Training Time: 0.83 seconds\n",
            "\n",
            "Classification Report:\n",
            "              precision    recall  f1-score   support\n",
            "\n",
            "           0       0.77      0.90      0.83       869\n",
            "           1       0.83      0.64      0.72       654\n",
            "\n",
            "    accuracy                           0.79      1523\n",
            "   macro avg       0.80      0.77      0.78      1523\n",
            "weighted avg       0.80      0.79      0.78      1523\n",
            "\n"
          ]
        },
        {
          "output_type": "display_data",
          "data": {
            "text/plain": [
              "<Figure size 1200x1000 with 2 Axes>"
            ],
            "image/png": "[encoded data removed]"
          },
          "metadata": {}
        },
        {
          "output_type": "stream",
          "name": "stdout",
          "text": [
            "\n",
            "Best Model: Logistic Regression\n",
            "Best F1 Score: 0.7727\n"
          ]
        }
      ]
    },
    {
      "cell_type": "markdown",
      "source": [
        "#Key Observations:\n",
        "\n",
        "Best Performing Model: Logistic Regression provides the best trade-off between precision and recall for the disaster class, with the highest F1 score and fast training time.\n",
        "Precision vs. Recall:\n",
        "High Precision but Lower Recall: Models like Naive Bayes and Gradient Boosting have high precision but lower recall, meaning they are better at avoiding false positives but miss more actual disaster tweets.\n",
        "Balanced Precision and Recall: Linear SVM strikes a balance, resulting in consistent performance.\n",
        "Training Time Considerations:\n",
        "Quick Models: Naive Bayes and Logistic Regression are quick to train, beneficial for iterative development.\n",
        "Resource-Intensive Models: Random Forest has a significantly longer training time without substantial performance benefits.\n",
        "\n",
        "Conclusion:\n",
        "\n",
        "The evaluation indicates that Logistic Regression is the most effective model for classifying disaster-related tweets in this context. It offers the highest F1 score, indicating a good balance between precision and recall, and trains quickly. For practical deployment and further development, focusing on Logistic Regression and fine-tuning it is the recommended approach.\n",
        "\n",
        "Next Steps:\n",
        "\n",
        "Hyperparameter Optimization: Use techniques like Grid Search or Randomized Search to find optimal parameters for Logistic Regression.\n",
        "Model Ensemble: Explore combining predictions from Logistic Regression and Linear SVM to potentially improve performance.\n",
        "Cross-Validation: Implement k-fold cross-validation to ensure the model's robustness across different data splits.\n",
        "Model Interpretability: Analyze feature importances to understand which words or n-grams contribute most to predictions, aiding in explainability."
      ],
      "metadata": {
        "id": "3JpG7TExBMJA"
      }
    },
    {
      "cell_type": "code",
      "source": [
        "def tune_best_model(best_model_name, best_model):\n",
        "    \"\"\"\n",
        "    Perform hyperparameter tuning for the best model\n",
        "    \"\"\"\n",
        "    from sklearn.model_selection import GridSearchCV\n",
        "\n",
        "    param_grid = {}\n",
        "\n",
        "    if best_model_name == \"Logistic Regression\":\n",
        "        param_grid = {\n",
        "            'C': [0.1, 1, 10],\n",
        "            'solver': ['liblinear', 'lbfgs']\n",
        "        }\n",
        "    elif best_model_name == \"Linear SVM\":\n",
        "        param_grid = {\n",
        "            'C': [0.1, 1, 10],\n",
        "            'loss': ['hinge', 'squared_hinge']\n",
        "        }\n",
        "    elif best_model_name == \"Random Forest\":\n",
        "        param_grid = {\n",
        "            'n_estimators': [100, 200],\n",
        "            'max_depth': [10, 20, None],\n",
        "            'min_samples_split': [2, 5]\n",
        "        }\n",
        "    elif best_model_name == \"Gradient Boosting\":\n",
        "        param_grid = {\n",
        "            'n_estimators': [100, 200],\n",
        "            'learning_rate': [0.01, 0.1],\n",
        "            'max_depth': [3, 5]\n",
        "        }\n",
        "    elif best_model_name == \"XGBoost\":\n",
        "        param_grid = {\n",
        "            'n_estimators': [100, 200],\n",
        "            'max_depth': [3, 5],\n",
        "            'learning_rate': [0.01, 0.1]\n",
        "        }\n",
        "\n",
        "    if param_grid:\n",
        "        print(f\"\\nPerforming hyperparameter tuning for {best_model_name}...\")\n",
        "        grid_search = GridSearchCV(best_model, param_grid, cv=5, scoring='f1', n_jobs=-1)\n",
        "        grid_search.fit(X_train_tfidf, y_train)\n",
        "\n",
        "        print(\"Best parameters:\", grid_search.best_params_)\n",
        "\n",
        "        y_pred_tuned = grid_search.predict(X_val_tfidf)\n",
        "        f1_tuned = f1_score(y_val, y_pred_tuned)\n",
        "        print(f\"Tuned model F1 Score: {f1_tuned:.4f}\")\n",
        "\n",
        "        return grid_search.best_estimator_\n",
        "\n",
        "    return best_model\n",
        "\n"
      ],
      "metadata": {
        "id": "5CldndkicmA9"
      },
      "execution_count": 1,
      "outputs": []
    },
    {
      "cell_type": "markdown",
      "source": [
        "The function tune_best_model is designed to perform hyperparameter tuning for a given machine learning model using GridSearchCV. Hyperparameter tuning is a crucial step in optimizing model performance by searching for the best combination of parameters that improve the model's predictive accuracy."
      ],
      "metadata": {
        "id": "ACR8jfv7B6zZ"
      }
    },
    {
      "cell_type": "code",
      "source": [
        "\n",
        "best_model_tuned = tune_best_model(best_model_name, best_model)\n",
        "\n",
        "def make_final_prediction(best_model_tuned):\n",
        "    \"\"\"\n",
        "    Make final predictions using the tuned best model\n",
        "    \"\"\"\n",
        "\n",
        "    X_test_tfidf = tfidf.transform(test_df['processed_text'])\n",
        "\n",
        "    test_predictions = best_model_tuned.predict(X_test_tfidf)\n",
        "\n",
        "    submission = pd.DataFrame({\n",
        "        'id': test_df['id'],\n",
        "        'target': test_predictions\n",
        "    })\n",
        "\n",
        "    submission_filename = f'submission_{best_model_name.lower().replace(\" \", \"_\")}.csv'\n",
        "    submission.to_csv(submission_filename, index=False)\n",
        "    print(f\"\\nSubmission file created: {submission_filename}\")\n",
        "\n",
        "make_final_prediction(best_model_tuned)\n",
        "\n"
      ],
      "metadata": {
        "colab": {
          "base_uri": "https://localhost:8080/"
        },
        "id": "AyYmbHFfcqw8",
        "outputId": "5287f137-10ee-43fa-a7f4-5b14fc0b6126"
      },
      "execution_count": 86,
      "outputs": [
        {
          "output_type": "stream",
          "name": "stdout",
          "text": [
            "\n",
            "Performing hyperparameter tuning for Logistic Regression...\n",
            "Best parameters: {'C': 1, 'solver': 'lbfgs'}\n",
            "Tuned model F1 Score: 0.7727\n",
            "\n",
            "Submission file created: submission_logistic_regression.csv\n"
          ]
        }
      ]
    },
    {
      "cell_type": "code",
      "source": [
        "print(\"\\nModel Selection Summary:\")\n",
        "print(\"-\" * 50)\n",
        "print(f\"Best Model: {best_model_name}\")\n",
        "print(f\"Initial F1 Score: {best_f1:.4f}\")\n",
        "print(\"Hyperparameter tuning completed\")\n",
        "print(\"Final submission file created\")\n",
        "print(\"-\" * 50)"
      ],
      "metadata": {
        "colab": {
          "base_uri": "https://localhost:8080/"
        },
        "id": "2N3izHxwcsDc",
        "outputId": "8a2f729c-cb42-4e80-e711-76f3efd2fdb1"
      },
      "execution_count": 85,
      "outputs": [
        {
          "output_type": "stream",
          "name": "stdout",
          "text": [
            "\n",
            "Model Selection Summary:\n",
            "--------------------------------------------------\n",
            "Best Model: Logistic Regression\n",
            "Initial F1 Score: 0.7727\n",
            "Hyperparameter tuning completed\n",
            "Final submission file created\n",
            "--------------------------------------------------\n"
          ]
        }
      ]
    },
    {
      "cell_type": "code",
      "source": [],
      "metadata": {
        "id": "Ihm5RZgkc3er"
      },
      "execution_count": null,
      "outputs": []
    }
  ]
}